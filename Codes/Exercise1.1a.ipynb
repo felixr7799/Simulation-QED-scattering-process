{
 "cells": [
  {
   "cell_type": "code",
   "execution_count": 1,
   "id": "8e7f57b4-22bd-4ccf-8e35-ccdfb5c712bf",
   "metadata": {
    "tags": []
   },
   "outputs": [],
   "source": [
    "\"\"\"\n",
    "\n",
    "To recreate the same results with the pseudo-random numbers simply run all the cells once in order from top to bottom\n",
    "\n",
    "\"\"\"\n",
    "\n",
    "import numpy as np\n",
    "import matplotlib.pyplot as plt\n",
    "import random\n",
    "from scipy.stats import norm\n",
    "\n",
    "seed = 7654\n",
    "np.random.seed(seed)\n",
    "\n",
    "# defining all the constants\n",
    "\n",
    "pi = np.pi\n",
    "\n",
    "qed_coupling = 1/129\n",
    "\n",
    "qcd_coupling = 0.118\n",
    "\n",
    "zboson_mass = 91.2\n",
    "\n",
    "zboson_decaywidth = 2.5\n",
    "\n",
    "weinberg_angle = 0.223\n",
    "\n",
    "electron_charge = -1\n",
    "\n",
    "upquark_charge = 2/3\n",
    "\n",
    "downquark_charge = -1/3\n",
    "\n",
    "upquark_isospin = 1/2\n",
    "\n",
    "downquark_isospin = -1/2\n",
    "\n",
    "number_of_quark_flavours = 5\n",
    "\n",
    "number_of_qcd_colours = 3\n",
    "\n",
    "conversion_factor = 3.89379656*10**8\n",
    "\n",
    "kappa = 1/(4*weinberg_angle*(1-weinberg_angle))\n",
    "\n",
    "electron_vectorcoupling = downquark_isospin - 2* electron_charge*weinberg_angle\n",
    "\n",
    "upquark_vectorcoupling = upquark_isospin - 2* upquark_charge*weinberg_angle\n",
    "\n",
    "downquark_vectorcoupling= downquark_isospin - 2* downquark_charge*weinberg_angle"
   ]
  },
  {
   "cell_type": "code",
   "execution_count": 2,
   "id": "a238a881-de49-4d00-848d-95095f6ecc2e",
   "metadata": {
    "tags": []
   },
   "outputs": [],
   "source": [
    "def chi_1(s): \n",
    "\n",
    "    return kappa* (s*(s- zboson_mass**2))/((s- zboson_mass**2)**2 + zboson_decaywidth**2 * zboson_mass**2)\n",
    "\n",
    "def chi_2(s):\n",
    "\n",
    "    return kappa**2 * (s**2)/((s- zboson_mass**2)**2 + zboson_decaywidth**2 * zboson_mass**2)\n",
    "    \n",
    "#defining the matrix element e^+ e^- --> qq\n",
    "#here with the explicit summing over the flavours\n",
    "\n",
    "def matrix_element(s,cos_theta,quark_flavour):\n",
    "\n",
    "    if (quark_flavour == 2 or quark_flavour ==5): \n",
    "        return (4*pi*qed_coupling)**2 * number_of_qcd_colours* ((1+ cos_theta**2)*(electron_charge**2*upquark_charge**2 + 2* electron_charge * upquark_charge* electron_vectorcoupling * upquark_vectorcoupling * chi_1(s) + (downquark_isospin**2+ electron_vectorcoupling**2)*(upquark_isospin**2 + upquark_vectorcoupling**2)*chi_2(s))+ cos_theta* (4* electron_charge*upquark_charge*downquark_isospin*upquark_isospin*chi_1(s)+ 8* downquark_isospin*electron_vectorcoupling* upquark_isospin* upquark_vectorcoupling*chi_2(s)))\n",
    "    \n",
    "    else:  \n",
    "        return (4*pi*qed_coupling)**2 * number_of_qcd_colours* ((1+ cos_theta**2)*(electron_charge**2*downquark_charge**2 + 2* electron_charge * downquark_charge* electron_vectorcoupling * downquark_vectorcoupling * chi_1(s) + (downquark_isospin**2+ electron_vectorcoupling**2)*(downquark_isospin**2 + downquark_vectorcoupling**2)*chi_2(s))+ cos_theta* (4* electron_charge*downquark_charge*downquark_isospin*downquark_isospin*chi_1(s)+ 8* downquark_isospin*electron_vectorcoupling* downquark_isospin* downquark_vectorcoupling*chi_2(s)))\n",
    "\n",
    "def differential_cross_section(s,cos_theta):\n",
    "\n",
    "    summed_matrix_elements = 0\n",
    "    \n",
    "    for i in range(number_of_quark_flavours):\n",
    "    \n",
    "        quark_flavour = i+1\n",
    "        \n",
    "        summed_matrix_elements = summed_matrix_elements + matrix_element(s,cos_theta,quark_flavour)\n",
    "    \n",
    "    return conversion_factor * 1/(8*pi) *1/(4*pi) * 1/(2*s) *summed_matrix_elements"
   ]
  },
  {
   "cell_type": "code",
   "execution_count": 3,
   "id": "e928d71b-f812-4f2e-a0a9-502edbc9d97b",
   "metadata": {
    "tags": []
   },
   "outputs": [],
   "source": [
    "#monte carlo integrator\n",
    "def mc_integrator(function, low_limits, up_limits, number_of_samples):\n",
    "\n",
    "    dimension = len(low_limits)\n",
    "    \n",
    "    integration_volume = np.prod(up_limits- low_limits)\n",
    "    \n",
    "    samples = np.random.uniform(low_limits, up_limits, size=(number_of_samples, dimension))\n",
    "    \n",
    "    function_values = function(zboson_mass**2,samples[:,0])\n",
    "    \n",
    "    integral = integration_volume * np.mean(function_values)\n",
    "    \n",
    "    error = integration_volume * np.std(function_values) / np.sqrt(number_of_samples)\n",
    "    \n",
    "    return integral,error"
   ]
  },
  {
   "cell_type": "code",
   "execution_count": 4,
   "id": "7ad9c1da-7ca1-42d2-8104-7af8f4b44482",
   "metadata": {
    "tags": []
   },
   "outputs": [],
   "source": [
    "#doing the integration with explicit summing over the flavours\n",
    "low_limits = np.array([-1,0])\n",
    "\n",
    "up_limits = np.array([1,2*pi])\n",
    "\n",
    "integration_value_1a  = [mc_integrator(differential_cross_section,low_limits,up_limits,20000) for _ in range(10000)]\n",
    "\n",
    "with open('../Data_and_Plots/data1.1aPart1.txt', 'wb') as f:\n",
    "    header = 'MCestimate  MCerror\\n'\n",
    "    header_ascii = header.encode('ascii')\n",
    "    f.write(header_ascii)\n",
    "    for i in integration_value_1a:\n",
    "        line = str(i[0])+ ' ' + str(i[1]) + '\\n'\n",
    "        line_ascii = line.encode('ascii')\n",
    "        f.write(line_ascii)"
   ]
  },
  {
   "cell_type": "code",
   "execution_count": null,
   "id": "5ad87ed4-c4d1-458a-b87b-9761b7fe12e2",
   "metadata": {},
   "outputs": [],
   "source": []
  }
 ],
 "metadata": {
  "kernelspec": {
   "display_name": "Python 3 (ipykernel)",
   "language": "python",
   "name": "python3"
  },
  "language_info": {
   "codemirror_mode": {
    "name": "ipython",
    "version": 3
   },
   "file_extension": ".py",
   "mimetype": "text/x-python",
   "name": "python",
   "nbconvert_exporter": "python",
   "pygments_lexer": "ipython3",
   "version": "3.10.10"
  }
 },
 "nbformat": 4,
 "nbformat_minor": 5
}
