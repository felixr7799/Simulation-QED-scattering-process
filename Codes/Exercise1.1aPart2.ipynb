{
 "cells": [
  {
   "cell_type": "code",
   "execution_count": 1,
   "id": "eab97a2e-1a67-4b12-936d-9cb7b91d2b4a",
   "metadata": {
    "tags": []
   },
   "outputs": [],
   "source": [
    "\"\"\"\n",
    "\n",
    "To recreate the same results with the pseudo-random numbers simply run all the cells once in order from top to bottom\n",
    "\n",
    "\"\"\"\n",
    "\n",
    "import numpy as np\n",
    "import matplotlib.pyplot as plt\n",
    "from scipy.stats import norm\n",
    "\n",
    "seed = 7654\n",
    "rng = np.random.default_rng(seed)\n",
    "\n",
    "# defining all the constants\n",
    "\n",
    "pi = np.pi\n",
    "\n",
    "qed_coupling = 1/129\n",
    "\n",
    "qcd_coupling = 0.118\n",
    "\n",
    "zboson_mass = 91.2\n",
    "\n",
    "zboson_decaywidth = 2.5\n",
    "\n",
    "weinberg_angle = 0.223\n",
    "\n",
    "electron_charge = -1\n",
    "\n",
    "upquark_charge = 2/3\n",
    "\n",
    "downquark_charge = -1/3\n",
    "\n",
    "upquark_isospin = 1/2\n",
    "\n",
    "downquark_isospin = -1/2\n",
    "\n",
    "number_of_quark_flavours = 5\n",
    "\n",
    "number_of_qcd_colours = 3\n",
    "\n",
    "conversion_factor = 3.89379656*10**8\n",
    "\n",
    "kappa = 1/(4*weinberg_angle*(1-weinberg_angle))\n",
    "\n",
    "electron_vectorcoupling = downquark_isospin - 2* electron_charge*weinberg_angle\n",
    "\n",
    "upquark_vectorcoupling = upquark_isospin - 2* upquark_charge*weinberg_angle\n",
    "\n",
    "downquark_vectorcoupling= downquark_isospin - 2* downquark_charge*weinberg_angle"
   ]
  },
  {
   "cell_type": "code",
   "execution_count": 2,
   "id": "ae8b33f3-cec4-441c-b387-eec9629591eb",
   "metadata": {
    "tags": []
   },
   "outputs": [],
   "source": [
    "def chi_1(s): \n",
    "\n",
    "    return kappa* (s*(s- zboson_mass**2))/((s- zboson_mass**2)**2 + zboson_decaywidth**2 * zboson_mass**2)\n",
    "\n",
    "def chi_2(s):\n",
    "\n",
    "    return kappa**2 * (s**2)/((s- zboson_mass**2)**2 + zboson_decaywidth**2 * zboson_mass**2)\n",
    "    \n",
    "#defining the matrix element e^+ e^- --> qq\n",
    "\n",
    "def matrix_element(s,cos_theta,quark_flavour):\n",
    "\n",
    "    if (quark_flavour == 2 or quark_flavour ==5): \n",
    "        return (4*pi*qed_coupling)**2 * number_of_qcd_colours* ((1+ cos_theta**2)*(electron_charge**2*upquark_charge**2 + 2* electron_charge * upquark_charge* electron_vectorcoupling * upquark_vectorcoupling * chi_1(s) + (downquark_isospin**2+ electron_vectorcoupling**2)*(upquark_isospin**2 + upquark_vectorcoupling**2)*chi_2(s))+ cos_theta* (4* electron_charge*upquark_charge*downquark_isospin*upquark_isospin*chi_1(s)+ 8* downquark_isospin*electron_vectorcoupling* upquark_isospin* upquark_vectorcoupling*chi_2(s)))\n",
    "    \n",
    "    else:  \n",
    "        return (4*pi*qed_coupling)**2 * number_of_qcd_colours* ((1+ cos_theta**2)*(electron_charge**2*downquark_charge**2 + 2* electron_charge * downquark_charge* electron_vectorcoupling * downquark_vectorcoupling * chi_1(s) + (downquark_isospin**2+ electron_vectorcoupling**2)*(downquark_isospin**2 + downquark_vectorcoupling**2)*chi_2(s))+ cos_theta* (4* electron_charge*downquark_charge*downquark_isospin*downquark_isospin*chi_1(s)+ 8* downquark_isospin*electron_vectorcoupling* downquark_isospin* downquark_vectorcoupling*chi_2(s)))\n",
    "\n",
    "def differential_cross_section(s,cos_theta,quark_flavour):\n",
    "    number = quark_flavour\n",
    "    return conversion_factor * 1/(8*pi) *1/(4*pi) * 1/(2*s) *matrix_element(s,cos_theta,number)"
   ]
  },
  {
   "cell_type": "code",
   "execution_count": 3,
   "id": "3cd8827f-c39d-4e03-9e41-bb1f14da9bc3",
   "metadata": {
    "tags": []
   },
   "outputs": [],
   "source": [
    "#monte carlo integrator\n",
    "def mc_integrator(function, low_limits, up_limits, number_of_samples):\n",
    "    \n",
    "    dimension = len(low_limits)\n",
    "    \n",
    "    integration_volume = np.prod(up_limits- low_limits)\n",
    "    \n",
    "    samples = rng.uniform(low_limits, up_limits, size=(number_of_samples, dimension))\n",
    "    \n",
    "    random_flavours = rng.integers(1,number_of_quark_flavours+1,size=(number_of_samples))\n",
    "    \n",
    "    function_values = [function(zboson_mass**2,samples[:,0][i],random_flavours[i]) for i in range(number_of_samples)]\n",
    "    \n",
    "    integral = integration_volume*number_of_quark_flavours * np.mean(function_values)\n",
    "    \n",
    "    error = integration_volume * number_of_quark_flavours* np.std(function_values) / np.sqrt(number_of_samples)\n",
    "    \n",
    "    return integral,error"
   ]
  },
  {
   "cell_type": "code",
   "execution_count": 4,
   "id": "a2dc3724-df82-43aa-a1e6-9c32a37fbaa2",
   "metadata": {
    "tags": []
   },
   "outputs": [],
   "source": [
    "#doing the integration with the random flavour sampling\n",
    "#this cell can take a bit of time to compute\n",
    "\n",
    "low_limits = np.array([-1,0])\n",
    "\n",
    "up_limits = np.array([1,2*pi])\n",
    "\n",
    "integration_value_1a  = [mc_integrator(differential_cross_section,low_limits,up_limits,20000) for _ in range(10000)]\n",
    "\n",
    "with open('../Data_and_Plots/data1.1aPart2.txt', 'wb') as f:\n",
    "    header = 'MCestimate  MCerror\\n'\n",
    "    header_ascii = header.encode('ascii')\n",
    "    f.write(header_ascii)\n",
    "    for i in integration_value_1a:\n",
    "        line = str(i[0])+ ' ' + str(i[1]) + '\\n'\n",
    "        line_ascii = line.encode('ascii')\n",
    "        f.write(line_ascii)"
   ]
  },
  {
   "cell_type": "code",
   "execution_count": 5,
   "id": "de55231f-fab2-43e6-837c-d7c2ebabc2be",
   "metadata": {},
   "outputs": [],
   "source": [
    "#1.1b monte carlo error for different number of samples \n",
    "low_limits = np.array([-1,0])\n",
    "\n",
    "up_limits = np.array([1,2*pi])\n",
    "\n",
    "number_of_samples = [10,25,50,100,200,500,1000,2000,5000,7500,10000,20000,50000,100000]\n",
    "integration_values_1b  = [mc_integrator(differential_cross_section,low_limits,up_limits,i) for i in number_of_samples]\n",
    "integration_values_1b = np.array(integration_values_1b)\n",
    "\n",
    "with open('../Data_and_Plots/data1.1aPart3.txt', 'wb') as f:\n",
    "    header = 'Number of Samples  MCerror\\n'\n",
    "    header_ascii = header.encode('ascii')\n",
    "    f.write(header_ascii)\n",
    "    for i in range(len(number_of_samples)):\n",
    "        line = str(number_of_samples[i])+ ' ' + str(integration_values_1b[:,1][i]) + '\\n'\n",
    "        line_ascii = line.encode('ascii')\n",
    "        f.write(line_ascii)\n",
    "\n"
   ]
  },
  {
   "cell_type": "code",
   "execution_count": null,
   "id": "168fa550-557d-4cfa-9575-b51025dbf2e6",
   "metadata": {},
   "outputs": [],
   "source": []
  }
 ],
 "metadata": {
  "kernelspec": {
   "display_name": "Python 3 (ipykernel)",
   "language": "python",
   "name": "python3"
  },
  "language_info": {
   "codemirror_mode": {
    "name": "ipython",
    "version": 3
   },
   "file_extension": ".py",
   "mimetype": "text/x-python",
   "name": "python",
   "nbconvert_exporter": "python",
   "pygments_lexer": "ipython3",
   "version": "3.10.10"
  }
 },
 "nbformat": 4,
 "nbformat_minor": 5
}
