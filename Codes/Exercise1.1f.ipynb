{
 "cells": [
  {
   "cell_type": "code",
   "execution_count": 1,
   "id": "056ca1a2-7791-4c7a-b5e8-86f4db373b70",
   "metadata": {
    "tags": []
   },
   "outputs": [],
   "source": [
    "\"\"\"\n",
    "\n",
    "To recreate the same results with the pseudo-random numbers simply run all the cells once in order from top to bottom\n",
    "\n",
    "\"\"\"\n",
    "\n",
    "\n",
    "import numpy as np\n",
    "import matplotlib.pyplot as plt\n",
    "import random\n",
    "from scipy.stats import norm\n",
    "seed = 7654\n",
    "rng = np.random.default_rng(seed)\n",
    "\n",
    "# defining all the constants\n",
    "\n",
    "pi = np.pi\n",
    "\n",
    "qed_coupling = 1/129\n",
    "\n",
    "qcd_coupling = 0.118\n",
    "\n",
    "zboson_mass = 91.2\n",
    "\n",
    "zboson_decaywidth = 2.5\n",
    "\n",
    "weinberg_angle = 0.223\n",
    "\n",
    "electron_charge = -1\n",
    "\n",
    "upquark_charge = 2/3\n",
    "\n",
    "downquark_charge = -1/3\n",
    "\n",
    "upquark_isospin = 1/2\n",
    "\n",
    "downquark_isospin = -1/2\n",
    "\n",
    "number_of_quark_flavours = 5\n",
    "\n",
    "number_of_qcd_colours = 3\n",
    "\n",
    "conversion_factor = 3.89379656*10**8\n",
    "\n",
    "kappa = 1/(4*weinberg_angle*(1-weinberg_angle))\n",
    "\n",
    "electron_vectorcoupling = downquark_isospin - 2* electron_charge*weinberg_angle\n",
    "\n",
    "upquark_vectorcoupling = upquark_isospin - 2* upquark_charge*weinberg_angle\n",
    "\n",
    "downquark_vectorcoupling= downquark_isospin - 2* downquark_charge*weinberg_angle"
   ]
  },
  {
   "cell_type": "code",
   "execution_count": 2,
   "id": "c6e39259-cd3d-4d23-8555-bdcae850a29e",
   "metadata": {
    "tags": []
   },
   "outputs": [],
   "source": [
    "uniform_distribution = 1/((zboson_mass + 3*zboson_decaywidth)**2-(zboson_mass - 3*zboson_decaywidth)**2)\n",
    "\n",
    "def breit_wigner_dist(s):\n",
    "    \n",
    "    return 1/((s- zboson_mass**2)**2 + zboson_decaywidth**2 * zboson_mass**2)\n",
    "\n",
    "#def inverse_bw_dist(x):\n",
    "    \n",
    " #   return np.sqrt(1/x - zboson_mass**2 * zboson_decaywidth**2) + zboson_mass**2\n",
    "\n",
    "def G(s):\n",
    "    \n",
    "    return - np.arctan((zboson_mass**2 - s)/(zboson_mass*zboson_decaywidth))/(zboson_mass*zboson_decaywidth)\n",
    "\n",
    "def inverse_G(x):\n",
    "    \n",
    "    return zboson_mass**2 - zboson_decaywidth*zboson_mass* np.tan(- zboson_mass*zboson_decaywidth*x)\n",
    "    \n",
    "\n",
    "def chi_1(s): \n",
    "\n",
    "    return kappa* (s*(s- zboson_mass**2))/((s- zboson_mass**2)**2 + zboson_decaywidth**2 * zboson_mass**2)\n",
    "\n",
    "def chi_2(s):\n",
    "\n",
    "    return kappa**2 * (s**2)/((s- zboson_mass**2)**2 + zboson_decaywidth**2 * zboson_mass**2)\n",
    "    \n",
    "#defining the matrix element e^+ e^- --> qq\n",
    "\n",
    "def matrix_element(s,cos_theta,quark_flavour):\n",
    "\n",
    "    if (quark_flavour == 2 or quark_flavour ==5): \n",
    "        return (4*pi*qed_coupling)**2 * number_of_qcd_colours* ((1+ cos_theta**2)*(electron_charge**2*upquark_charge**2 + 2* electron_charge * upquark_charge* electron_vectorcoupling * upquark_vectorcoupling * chi_1(s) + (downquark_isospin**2+ electron_vectorcoupling**2)*(upquark_isospin**2 + upquark_vectorcoupling**2)*chi_2(s))+ cos_theta* (4* electron_charge*upquark_charge*downquark_isospin*upquark_isospin*chi_1(s)+ 8* downquark_isospin*electron_vectorcoupling* upquark_isospin* upquark_vectorcoupling*chi_2(s)))\n",
    "    \n",
    "    else:  \n",
    "        return (4*pi*qed_coupling)**2 * number_of_qcd_colours* ((1+ cos_theta**2)*(electron_charge**2*downquark_charge**2 + 2* electron_charge * downquark_charge* electron_vectorcoupling * downquark_vectorcoupling * chi_1(s) + (downquark_isospin**2+ electron_vectorcoupling**2)*(downquark_isospin**2 + downquark_vectorcoupling**2)*chi_2(s))+ cos_theta* (4* electron_charge*downquark_charge*downquark_isospin*downquark_isospin*chi_1(s)+ 8* downquark_isospin*electron_vectorcoupling* downquark_isospin* downquark_vectorcoupling*chi_2(s)))\n",
    "\n",
    "def differential_cross_section(s,cos_theta):\n",
    "\n",
    "    summed_matrix_elements = 0\n",
    "    \n",
    "    for i in range(number_of_quark_flavours):\n",
    "    \n",
    "        quark_flavour = i+1\n",
    "        \n",
    "        summed_matrix_elements = summed_matrix_elements + matrix_element(s,cos_theta,quark_flavour)\n",
    "    \n",
    "    return conversion_factor *uniform_distribution* 1/(8*pi) *1/(4*pi) * 1/(2*s) *summed_matrix_elements"
   ]
  },
  {
   "cell_type": "code",
   "execution_count": 3,
   "id": "5f9c62af-6eb0-467a-b7ff-0a6bd43c5ee7",
   "metadata": {
    "tags": []
   },
   "outputs": [],
   "source": [
    "#calculating the normalization constant for breit wigner distribution\n",
    "def mc_inte(function, low_limits, up_limits, number_of_samples):\n",
    "    \n",
    "    dimension = 1\n",
    "    \n",
    "    integration_volume = up_limits- low_limits\n",
    "    \n",
    "    samples = np.random.uniform(low_limits, up_limits, number_of_samples)\n",
    "    \n",
    "    function_values = function(samples)\n",
    "    \n",
    "    integral = integration_volume * np.mean(function_values)\n",
    "    \n",
    "    error = integration_volume * np.std(function_values) / np.sqrt(number_of_samples)\n",
    "    \n",
    "    return integral,error\n",
    "\n",
    "N = 1000000\n",
    "s_lowlimit = (zboson_mass - 3*zboson_decaywidth)**2\n",
    "s_uplimit  = (zboson_mass + 3*zboson_decaywidth)**2\n",
    "\n",
    "normalization_constant = mc_inte(breit_wigner_dist,s_lowlimit,s_uplimit,N)"
   ]
  },
  {
   "cell_type": "code",
   "execution_count": 4,
   "id": "1f02b642-ee18-4010-b161-25451c12925a",
   "metadata": {
    "tags": []
   },
   "outputs": [],
   "source": [
    "def norm_breit_wigner_dist(s):\n",
    "    \n",
    "    return 1/normalization_constant[0]/((s- zboson_mass**2)**2 + zboson_decaywidth**2 * zboson_mass**2)\n",
    "\n",
    "#function to get samples with the Breit-Wigner mapping\n",
    "\n",
    "def sampling(invers_func,up_limits , low_limits,number_of_samples):\n",
    "    \n",
    "    A_tot = (up_limits-low_limits)*rng.uniform(0,1,number_of_samples)\n",
    "    \n",
    "    s_samples = invers_func(low_limits + A_tot)\n",
    "    \n",
    "    return s_samples\n"
   ]
  },
  {
   "cell_type": "code",
   "execution_count": 5,
   "id": "9b7a9e70-904b-4e9f-b7ba-e4967ec0378e",
   "metadata": {
    "tags": []
   },
   "outputs": [],
   "source": [
    "#monte carlo integrator with importance sampling\n",
    "def mc_integrator(function,dist,integ_of_dist,inverse_dist, low_limits, up_limits, number_of_samples):\n",
    "    \n",
    "    dimension = len(low_limits)\n",
    "    \n",
    "    integration_volume = up_limits[0]- low_limits[0]\n",
    "    \n",
    "    G_lowlimit = integ_of_dist(low_limits[0])\n",
    "    G_uplimit = integ_of_dist(up_limits[0])\n",
    "    \n",
    "    s_samples = sampling(inverse_dist,G_uplimit,G_lowlimit,number_of_samples) \n",
    "    \n",
    "    samples = np.random.uniform(low_limits[1], up_limits[1], number_of_samples)\n",
    "    \n",
    "    function_values = function(s_samples,samples)\n",
    "    \n",
    "    dist_values = dist(s_samples)\n",
    "    \n",
    "    integral =  np.mean(function_values/dist_values) *4*pi \n",
    "    \n",
    "    error =  np.std(function_values/dist_values) / np.sqrt(number_of_samples)* 4*pi \n",
    "    \n",
    "    return integral,error"
   ]
  },
  {
   "cell_type": "code",
   "execution_count": 6,
   "id": "b5ed754f-dd8b-4bbf-93f8-cd636b2c6481",
   "metadata": {
    "tags": []
   },
   "outputs": [
    {
     "name": "stdout",
     "output_type": "stream",
     "text": [
      "Approximated integral using importance sampling: (9910.211307995301, 29.098138528477985)\n"
     ]
    }
   ],
   "source": [
    "N = 10000\n",
    "s_lowlimit = (zboson_mass - 3*zboson_decaywidth)**2\n",
    "s_uplimit  = (zboson_mass + 3*zboson_decaywidth)**2\n",
    "\n",
    "low_limits = np.array([s_lowlimit,-1,0])\n",
    "up_limits = np.array([s_uplimit,1,2*pi])\n",
    "# Calculate the integral using importance sampling\n",
    "result = mc_integrator(differential_cross_section,norm_breit_wigner_dist,G,inverse_G, low_limits, up_limits, N)\n",
    "print(\"Approximated integral using importance sampling:\", result)\n",
    "\n"
   ]
  },
  {
   "cell_type": "code",
   "execution_count": 7,
   "id": "2dcfe300-a15f-4853-9111-aa2b57208898",
   "metadata": {},
   "outputs": [],
   "source": [
    "number_of_samples = [10,25,50,100,200,500,1000,2000,5000,7500,10000,20000,50000,100000]\n",
    "integration_values_mcerror  = [mc_integrator(differential_cross_section,norm_breit_wigner_dist,G,inverse_G,low_limits,up_limits,i) for i in number_of_samples]\n",
    "integration_values_mcerror = np.array(integration_values_mcerror)\n",
    "\n",
    "with open('../Data_and_Plots/data1.1fPart1.txt', 'wb') as f:\n",
    "    header = 'Number of Samples  MCerror\\n'\n",
    "    header_ascii = header.encode('ascii')\n",
    "    f.write(header_ascii)\n",
    "    for i in range(len(number_of_samples)):\n",
    "        line = str(number_of_samples[i])+ ' ' + str(integration_values_mcerror[:,1][i]) + '\\n'\n",
    "        line_ascii = line.encode('ascii')\n",
    "        f.write(line_ascii)"
   ]
  }
 ],
 "metadata": {
  "kernelspec": {
   "display_name": "Python 3 (ipykernel)",
   "language": "python",
   "name": "python3"
  },
  "language_info": {
   "codemirror_mode": {
    "name": "ipython",
    "version": 3
   },
   "file_extension": ".py",
   "mimetype": "text/x-python",
   "name": "python",
   "nbconvert_exporter": "python",
   "pygments_lexer": "ipython3",
   "version": "3.10.10"
  }
 },
 "nbformat": 4,
 "nbformat_minor": 5
}
