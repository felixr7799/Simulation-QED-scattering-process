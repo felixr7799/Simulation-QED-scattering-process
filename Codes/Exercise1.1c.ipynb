{
 "cells": [
  {
   "cell_type": "code",
   "execution_count": 1,
   "id": "db84eeed-d876-4aae-ac34-5a00c6b57ccb",
   "metadata": {
    "tags": []
   },
   "outputs": [],
   "source": [
    "\"\"\"\n",
    "\n",
    "To recreate the same results with the pseudo-random numbers simply run all the cells once in order from top to bottom\n",
    "\n",
    "\"\"\"\n",
    "\n",
    "\n",
    "from utils.histogram import Histo1D\n",
    "import numpy as np\n",
    "import matplotlib.pyplot as plt\n",
    "from scipy.stats import norm\n",
    "\n",
    "seed = 7654\n",
    "rng = np.random.default_rng(seed)\n",
    "\n",
    "# defining all the constants\n",
    "\n",
    "pi = np.pi\n",
    "\n",
    "qed_coupling = 1/129\n",
    "\n",
    "qcd_coupling = 0.118\n",
    "\n",
    "zboson_mass = 91.2\n",
    "\n",
    "zboson_decaywidth = 2.5\n",
    "\n",
    "weinberg_angle = 0.223\n",
    "\n",
    "electron_charge = -1\n",
    "\n",
    "upquark_charge = 2/3\n",
    "\n",
    "downquark_charge = -1/3\n",
    "\n",
    "upquark_isospin = 1/2\n",
    "\n",
    "downquark_isospin = -1/2\n",
    "\n",
    "number_of_quark_flavours = 5\n",
    "\n",
    "number_of_qcd_colours = 3\n",
    "\n",
    "conversion_factor = 3.89379656*10**8\n",
    "\n",
    "kappa = 1/(4*weinberg_angle*(1-weinberg_angle))\n",
    "\n",
    "electron_vectorcoupling = downquark_isospin - 2* electron_charge*weinberg_angle\n",
    "\n",
    "upquark_vectorcoupling = upquark_isospin - 2* upquark_charge*weinberg_angle\n",
    "\n",
    "downquark_vectorcoupling= downquark_isospin - 2* downquark_charge*weinberg_angle"
   ]
  },
  {
   "cell_type": "code",
   "execution_count": 2,
   "id": "52eaec31-d102-438e-adf3-039594a697da",
   "metadata": {
    "tags": []
   },
   "outputs": [],
   "source": [
    "uniform_distribution = 1/((zboson_mass + 3*zboson_decaywidth)**2-(zboson_mass - 3*zboson_decaywidth)**2)\n",
    "\n",
    "def chi_1(s): \n",
    "\n",
    "    return kappa* (s*(s- zboson_mass**2))/((s- zboson_mass**2)**2 + zboson_decaywidth**2 * zboson_mass**2)\n",
    "\n",
    "def chi_2(s):\n",
    "\n",
    "    return kappa**2 * (s**2)/((s- zboson_mass**2)**2 + zboson_decaywidth**2 * zboson_mass**2)\n",
    "    \n",
    "#defining the matrix element e^+ e^- --> qq\n",
    "\n",
    "def matrix_element(s,cos_theta,quark_flavour):\n",
    "\n",
    "    if (quark_flavour == 2 or quark_flavour ==5): \n",
    "        return (4*pi*qed_coupling)**2 * number_of_qcd_colours* ((1+ cos_theta**2)*(electron_charge**2*upquark_charge**2 + 2* electron_charge * upquark_charge* electron_vectorcoupling * upquark_vectorcoupling * chi_1(s) + (downquark_isospin**2+ electron_vectorcoupling**2)*(upquark_isospin**2 + upquark_vectorcoupling**2)*chi_2(s))+ cos_theta* (4* electron_charge*upquark_charge*downquark_isospin*upquark_isospin*chi_1(s)+ 8* downquark_isospin*electron_vectorcoupling* upquark_isospin* upquark_vectorcoupling*chi_2(s)))\n",
    "    \n",
    "    else:  \n",
    "        return (4*pi*qed_coupling)**2 * number_of_qcd_colours* ((1+ cos_theta**2)*(electron_charge**2*downquark_charge**2 + 2* electron_charge * downquark_charge* electron_vectorcoupling * downquark_vectorcoupling * chi_1(s) + (downquark_isospin**2+ electron_vectorcoupling**2)*(downquark_isospin**2 + downquark_vectorcoupling**2)*chi_2(s))+ cos_theta* (4* electron_charge*downquark_charge*downquark_isospin*downquark_isospin*chi_1(s)+ 8* downquark_isospin*electron_vectorcoupling* downquark_isospin* downquark_vectorcoupling*chi_2(s)))\n",
    "\n",
    "def differential_cross_section(s,cos_theta):\n",
    "\n",
    "    summed_matrix_elements = 0\n",
    "    \n",
    "    for i in range(number_of_quark_flavours):\n",
    "    \n",
    "        quark_flavour = i+1\n",
    "        \n",
    "        summed_matrix_elements = summed_matrix_elements + matrix_element(s,cos_theta,quark_flavour)\n",
    "    \n",
    "    return conversion_factor *uniform_distribution* 1/(8*pi) *1/(4*pi) * 1/(2*s) *summed_matrix_elements"
   ]
  },
  {
   "cell_type": "code",
   "execution_count": 3,
   "id": "9847291f-96c4-489c-8a55-897da3eb9b9b",
   "metadata": {
    "tags": []
   },
   "outputs": [],
   "source": [
    "#monte carlo integrator with histogram\n",
    "def mc_integrator(function, low_limits, up_limits, number_of_samples):\n",
    "    \n",
    "    # Initialize histogram\n",
    "    nbins = 100\n",
    "    s_min = low_limits[0]\n",
    "    s_max = up_limits[0]\n",
    "    histogram = Histo1D(nbins, s_min, s_max)\n",
    "    function_value = []\n",
    "    dimension = len(low_limits)\n",
    "    \n",
    "    integration_volume = np.prod(up_limits- low_limits)\n",
    "    \n",
    "    for _ in range(number_of_samples):\n",
    "        \n",
    "        sample = rng.uniform(low_limits,up_limits, size=(dimension))\n",
    "        \n",
    "        f= function(sample[0],sample[1])\n",
    "        \n",
    "        function_value.append(f*integration_volume/number_of_samples)\n",
    "    \n",
    "        histogram.fill(sample[0],f/number_of_samples*integration_volume)\n",
    "        \n",
    "    error =  np.std(function_value) * np.sqrt(number_of_samples)\n",
    "    \n",
    "    integral =  np.sum(function_value)\n",
    "    \n",
    "    return integral,histogram,error"
   ]
  },
  {
   "cell_type": "code",
   "execution_count": 4,
   "id": "a576eeb1-3896-4bd1-8262-58a95f7bf795",
   "metadata": {
    "tags": []
   },
   "outputs": [
    {
     "name": "stdout",
     "output_type": "stream",
     "text": [
      "10001.963494829279 55.50856135343119\n"
     ]
    }
   ],
   "source": [
    "#monte carlo estimate for flat beam spectrum \n",
    "s_lowlimit = (zboson_mass - 3*zboson_decaywidth)**2\n",
    "s_uplimit  = (zboson_mass + 3*zboson_decaywidth)**2\n",
    "\n",
    "low_limits = np.array([s_lowlimit,-1,0])\n",
    "up_limits = np.array([s_uplimit,1,2*pi])\n",
    "\n",
    "integration_value_flat_beam = mc_integrator(differential_cross_section,low_limits,up_limits,50000)\n",
    "print(integration_value_flat_beam[0],integration_value_flat_beam[2]) #compatible with 9880(50) pb"
   ]
  },
  {
   "cell_type": "code",
   "execution_count": 5,
   "id": "bd93f290-7b3f-43be-bce5-8e6482b36427",
   "metadata": {
    "tags": []
   },
   "outputs": [],
   "source": [
    "#monte carlo error estimate for different number of samples\n",
    "s_lowlimit = (zboson_mass - 3*zboson_decaywidth)**2\n",
    "s_uplimit  = (zboson_mass + 3*zboson_decaywidth)**2\n",
    "\n",
    "low_limits = np.array([s_lowlimit,-1,0])\n",
    "up_limits = np.array([s_uplimit,1,2*pi])\n",
    "\n",
    "\n",
    "number_of_samples = [10,25,50,100,200,500,1000,2000,5000,7500,10000,20000,50000,100000]\n",
    "integration_values_mcerror  = [mc_integrator(differential_cross_section,low_limits,up_limits,i) for i in number_of_samples]\n",
    "integration_values_mcerror = np.array(integration_values_mcerror)\n",
    "\n",
    "with open('../Data_and_Plots/data1.1dPart1.txt', 'wb') as f:\n",
    "    header = 'Number of Samples  MCerror\\n'\n",
    "    header_ascii = header.encode('ascii')\n",
    "    f.write(header_ascii)\n",
    "    for i in range(len(number_of_samples)):\n",
    "        line = str(number_of_samples[i])+ ' ' + str(integration_values_mcerror[:,2][i]) + '\\n'\n",
    "        line_ascii = line.encode('ascii')\n",
    "        f.write(line_ascii)"
   ]
  },
  {
   "cell_type": "code",
   "execution_count": 6,
   "id": "cfbfa211-98b6-47d5-a7d3-757dca764080",
   "metadata": {
    "tags": []
   },
   "outputs": [],
   "source": [
    "s_lowlimit = (zboson_mass - 3*zboson_decaywidth)**2\n",
    "s_uplimit  = (zboson_mass + 3*zboson_decaywidth)**2\n",
    "\n",
    "low_limits = np.array([s_lowlimit,-1,0])\n",
    "up_limits = np.array([s_uplimit,1,2*pi])\n",
    "\n",
    "integration_values_1c = mc_integrator(differential_cross_section,low_limits,up_limits,20000)\n",
    "\n",
    "histo = integration_values_1c[1]\n",
    "\n",
    "with open('../Data_and_Plots/data1.1dPart2.txt', 'wb') as f:\n",
    "    ascii_histo = str(histo).encode('ascii')\n",
    "    f.write(ascii_histo)"
   ]
  },
  {
   "cell_type": "code",
   "execution_count": 7,
   "id": "1e74f888-8fa8-4da2-bc52-bb4114c8ac3b",
   "metadata": {
    "tags": []
   },
   "outputs": [],
   "source": [
    "#monte carlo integrator for fixed s values\n",
    "def mc_integrator_fixed_s(function,s, low_limits, up_limits, number_of_samples):\n",
    "    \n",
    "    dimension = len(low_limits)\n",
    "    \n",
    "    integration_volume = np.prod(up_limits- low_limits)\n",
    "    \n",
    "    samples = rng.uniform(low_limits, up_limits, size=(number_of_samples, dimension))\n",
    "    \n",
    "    function_values = function(s,samples[:,0])\n",
    "    \n",
    "    integral = integration_volume * np.mean(function_values)\n",
    "    \n",
    "    error = integration_volume * np.std(function_values) / np.sqrt(number_of_samples)\n",
    "    \n",
    "    return integral"
   ]
  },
  {
   "cell_type": "code",
   "execution_count": 8,
   "id": "5deaf9a4-3c8e-41cb-a428-e12e7c475e54",
   "metadata": {
    "tags": []
   },
   "outputs": [],
   "source": [
    "def differential_cross_section_fixed_s(s,cos_theta):\n",
    "\n",
    "    summed_matrix_elements = 0\n",
    "    \n",
    "    for i in range(number_of_quark_flavours):\n",
    "    \n",
    "        quark_flavour = i+1\n",
    "        \n",
    "        summed_matrix_elements = summed_matrix_elements + matrix_element(s,cos_theta,quark_flavour)\n",
    "    \n",
    "    return conversion_factor * 1/(8*pi) *1/(4*pi) * 1/(2*s) *summed_matrix_elements"
   ]
  },
  {
   "cell_type": "code",
   "execution_count": 9,
   "id": "fcdfdf78-dab6-41f6-9fc6-385c3f712cf0",
   "metadata": {
    "tags": []
   },
   "outputs": [],
   "source": [
    "# mc estimate for the range of s values used in the flat beam spectrum\n",
    "\n",
    "s_lowlimit = (zboson_mass - 3*zboson_decaywidth)**2\n",
    "s_uplimit  = (zboson_mass + 3*zboson_decaywidth)**2\n",
    "\n",
    "s_values = np.arange(s_lowlimit,s_uplimit,1)\n",
    "\n",
    "low_limits = np.array([-1,0])\n",
    "\n",
    "up_limits = np.array([1,2*pi])\n",
    "\n",
    "number_of_samples = 20000\n",
    "\n",
    "integral_values_1d = [mc_integrator_fixed_s(differential_cross_section_fixed_s,i,low_limits,up_limits,number_of_samples) for i in s_values]\n",
    "\n",
    "integral_values_1d = np.array(integral_values_1d)\n",
    "\n",
    "with open('../Data_and_Plots/data1.1dPart3.txt', 'wb') as f:\n",
    "    header = 'S Values  MC Estimate\\n'\n",
    "    header_ascii = header.encode('ascii')\n",
    "    f.write(header_ascii)\n",
    "    for i in range(len(s_values)):\n",
    "        line = str(s_values[i])+ ' ' + str(integral_values_1d[i]) + '\\n'\n",
    "        line_ascii = line.encode('ascii')\n",
    "        f.write(line_ascii)"
   ]
  }
 ],
 "metadata": {
  "kernelspec": {
   "display_name": "Python 3 (ipykernel)",
   "language": "python",
   "name": "python3"
  },
  "language_info": {
   "codemirror_mode": {
    "name": "ipython",
    "version": 3
   },
   "file_extension": ".py",
   "mimetype": "text/x-python",
   "name": "python",
   "nbconvert_exporter": "python",
   "pygments_lexer": "ipython3",
   "version": "3.10.10"
  }
 },
 "nbformat": 4,
 "nbformat_minor": 5
}
